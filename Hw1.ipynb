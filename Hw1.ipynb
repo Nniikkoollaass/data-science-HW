{
  "nbformat": 4,
  "nbformat_minor": 0,
  "metadata": {
    "colab": {
      "provenance": [],
      "authorship_tag": "ABX9TyMygd9tQ7qGkyj+WsF2php+",
      "include_colab_link": true
    },
    "kernelspec": {
      "name": "python3",
      "display_name": "Python 3"
    },
    "language_info": {
      "name": "python"
    }
  },
  "cells": [
    {
      "cell_type": "markdown",
      "metadata": {
        "id": "view-in-github",
        "colab_type": "text"
      },
      "source": [
        "<a href=\"https://colab.research.google.com/github/Nniikkoollaass/data-science-HW/blob/main/Hw1.ipynb\" target=\"_parent\"><img src=\"https://colab.research.google.com/assets/colab-badge.svg\" alt=\"Open In Colab\"/></a>"
      ]
    },
    {
      "cell_type": "code",
      "execution_count": 1,
      "metadata": {
        "id": "hUqfMaPXAGBo"
      },
      "outputs": [],
      "source": [
        "import numpy as np"
      ]
    },
    {
      "cell_type": "code",
      "source": [
        "#1 Створіть одновимірний масив (вектор) з першими 10-ма натуральними числами та виведіть його значення.\n",
        "a = np.array([1, 2, 3, 4, 5, 6, 7, 8, 9, 10], dtype=int)\n",
        "print(a)"
      ],
      "metadata": {
        "colab": {
          "base_uri": "https://localhost:8080/"
        },
        "id": "ThAL23YWChsf",
        "outputId": "71605f30-b751-4460-a1cd-87655cd6c77b"
      },
      "execution_count": 3,
      "outputs": [
        {
          "output_type": "stream",
          "name": "stdout",
          "text": [
            "[ 1  2  3  4  5  6  7  8  9 10]\n"
          ]
        }
      ]
    },
    {
      "cell_type": "code",
      "source": [
        "#2 Створіть двовимірний масив (матрицю) розміром 3x3, заповніть його нулями та виведіть його значення.\n",
        "m = np.zeros((3, 3), dtype=int)\n",
        "print(m)"
      ],
      "metadata": {
        "colab": {
          "base_uri": "https://localhost:8080/"
        },
        "id": "gnlue50VMd10",
        "outputId": "b042c8db-90fd-4a19-a56c-72d6a78b1d1e"
      },
      "execution_count": 3,
      "outputs": [
        {
          "output_type": "stream",
          "name": "stdout",
          "text": [
            "[[0 0 0]\n",
            " [0 0 0]\n",
            " [0 0 0]]\n"
          ]
        }
      ]
    },
    {
      "cell_type": "code",
      "source": [
        "#3 Створіть масив розміром 5x5, заповніть його випадковими цілими числами в діапазоні від 1 до 10 та виведіть його значення.\n",
        "n = np.random.randint(1, 11,size=(5,5))\n",
        "print(n)"
      ],
      "metadata": {
        "colab": {
          "base_uri": "https://localhost:8080/"
        },
        "id": "HKA0E3ONOQrT",
        "outputId": "f38058aa-edbb-4700-af5c-ebc1c5154938"
      },
      "execution_count": 4,
      "outputs": [
        {
          "output_type": "stream",
          "name": "stdout",
          "text": [
            "[[ 7  4 10  1  2]\n",
            " [ 2  3  6  7  1]\n",
            " [ 6  7  9  5 10]\n",
            " [ 2  4  9  8  4]\n",
            " [ 1  5  5  4  7]]\n"
          ]
        }
      ]
    },
    {
      "cell_type": "code",
      "source": [
        "#4 Створіть масив розміром 4x4, заповніть його випадковими дійсними числами в діапазоні від 0 до 1 та виведіть його значення.\n",
        "b = np.random.random((4, 4))\n",
        "print(b)"
      ],
      "metadata": {
        "colab": {
          "base_uri": "https://localhost:8080/"
        },
        "id": "AO_3GN6iQ919",
        "outputId": "986bc916-2b9b-42da-ee6b-d85b360959a6"
      },
      "execution_count": 6,
      "outputs": [
        {
          "output_type": "stream",
          "name": "stdout",
          "text": [
            "[[0.33573612 0.11337823 0.50378426 0.22984689]\n",
            " [0.34913405 0.94502533 0.31728239 0.45928374]\n",
            " [0.95124144 0.80793383 0.58385747 0.88621472]\n",
            " [0.35377742 0.20999237 0.25640996 0.57822811]]\n"
          ]
        }
      ]
    },
    {
      "cell_type": "code",
      "source": [
        "#5 Створіть два одновимірних масиви розміром 5,\n",
        "#заповніть їх випадковими цілими числами в діапазоні від 1 до 10\n",
        "#та виконайте на них поелементні операції додавання, віднімання та множення.\n",
        "five_one = np.random.randint(1, 11,size=5)\n",
        "five_two = np.random.randint(1, 11,size=5)\n",
        "print(f\"First -\\n {five_one}\")\n",
        "print(f\"Second -\\n {five_two}\")\n",
        "print(f\"Addition: ->\\n {five_one + five_two}\")\n",
        "print(f\"Subtraction: ->\\n {five_one - five_two}\")\n",
        "print(f\"Multiplication: ->\\n {five_one * five_two}\")"
      ],
      "metadata": {
        "colab": {
          "base_uri": "https://localhost:8080/"
        },
        "id": "H2SIbYdzS9Tu",
        "outputId": "48819a71-c38d-4085-a252-b0cbb7e33240"
      },
      "execution_count": 5,
      "outputs": [
        {
          "output_type": "stream",
          "name": "stdout",
          "text": [
            "First -\n",
            " [ 7 10  8  7  4]\n",
            "Second -\n",
            " [2 9 2 6 2]\n",
            "Addition: ->\n",
            " [ 9 19 10 13  6]\n",
            "Subtraction: ->\n",
            " [5 1 6 1 2]\n",
            "Multiplication: ->\n",
            " [14 90 16 42  8]\n"
          ]
        }
      ]
    },
    {
      "cell_type": "code",
      "source": [
        "#6 Створіть два вектори розміром 7, заповніть довільними числами та знайдіть їх скалярний добуток.\n",
        "six_one = np.random.randint(1, 10,size=7)\n",
        "six_two = np.random.randint(1, 10,size=7)\n",
        "print(f\"First -\\n {six_one}\")\n",
        "print(f\"Second -\\n {six_two}\")\n",
        "print(f\"Scalar product: ->\\n {np.dot(six_one, six_two)}\")"
      ],
      "metadata": {
        "colab": {
          "base_uri": "https://localhost:8080/"
        },
        "id": "ID9bejQIUEd-",
        "outputId": "a730656d-c27d-42f3-bfe1-a7efbe5d2944"
      },
      "execution_count": 16,
      "outputs": [
        {
          "output_type": "stream",
          "name": "stdout",
          "text": [
            "First -\n",
            " [3 8 5 9 1 1 1]\n",
            "Second -\n",
            " [7 6 6 6 6 6 4]\n",
            "Scalar product: ->\n",
            " 169\n"
          ]
        }
      ]
    },
    {
      "cell_type": "code",
      "source": [
        "#7 Створіть дві матриці розміром 2x2 та 2x3,\n",
        "# заповніть їх випадковими цілими числами в діапазоні від 1 до 10 та перемножте їх між собою.\n",
        "seven_one = np.random.randint(1, 11,size=(2,2))\n",
        "seven_two = np.random.randint(1, 11,size=(2,3))\n",
        "print(f\"First -\\n {seven_one}\")\n",
        "print(f\"Second -\\n {seven_two}\")\n",
        "print(f\"Matrix multiplication: ->\\n{np.dot(seven_one, seven_two)}\")"
      ],
      "metadata": {
        "colab": {
          "base_uri": "https://localhost:8080/"
        },
        "id": "US9xXasSgHQ5",
        "outputId": "b625a85a-38a0-4a30-c833-0be55234f6d7"
      },
      "execution_count": 6,
      "outputs": [
        {
          "output_type": "stream",
          "name": "stdout",
          "text": [
            "First -\n",
            " [[3 6]\n",
            " [8 7]]\n",
            "Second -\n",
            " [[4 9 2]\n",
            " [1 8 5]]\n",
            "Matrix multiplication: ->\n",
            "[[ 18  75  36]\n",
            " [ 39 128  51]]\n"
          ]
        }
      ]
    },
    {
      "cell_type": "code",
      "source": [
        "#8 Створіть матрицю розміром 3x3,\n",
        "#заповніть її випадковими цілими числами в діапазоні від 1 до 10 та знайдіть її обернену матрицю.\n",
        "eight = np.random.randint(1, 11,size=(3,3))\n",
        "print(eight)\n",
        "eight_inv = np.linalg.inv(eight)\n",
        "print(f\"Inverse matrix: -> \\n{eight_inv}\")"
      ],
      "metadata": {
        "colab": {
          "base_uri": "https://localhost:8080/"
        },
        "id": "jMQMW3b8hAdf",
        "outputId": "c5b790a9-1f56-4a46-96ce-a596d715dcd2"
      },
      "execution_count": 7,
      "outputs": [
        {
          "output_type": "stream",
          "name": "stdout",
          "text": [
            "[[ 4 10  1]\n",
            " [ 7  6  1]\n",
            " [ 7  1  5]]\n",
            "Inverse matrix: -> \n",
            "[[-0.14572864  0.24623116 -0.0201005 ]\n",
            " [ 0.14070352 -0.06532663 -0.01507538]\n",
            " [ 0.1758794  -0.33165829  0.23115578]]\n"
          ]
        }
      ]
    },
    {
      "cell_type": "code",
      "source": [
        "#9 Створіть матрицю розміром 4x4,\n",
        "# заповніть її випадковими дійсними числами в діапазоні від 0 до 1 та транспонуйте її.\n",
        "nine = np.random.random((4, 4))\n",
        "print(nine)\n",
        "nine_transposed = np.transpose(nine)\n",
        "print(f\"Transposed matrix: -> \\n{nine_transposed}\")"
      ],
      "metadata": {
        "colab": {
          "base_uri": "https://localhost:8080/"
        },
        "id": "MOzUbZIMi8f2",
        "outputId": "ed78a878-2bd1-445f-97ce-e0629a83f63e"
      },
      "execution_count": 14,
      "outputs": [
        {
          "output_type": "stream",
          "name": "stdout",
          "text": [
            "[[0.11897558 0.62483128 0.20489398 0.40609407]\n",
            " [0.54767224 0.9062061  0.35517008 0.66276221]\n",
            " [0.69850924 0.96172831 0.83488587 0.4736684 ]\n",
            " [0.36416545 0.68794842 0.16888788 0.80671953]]\n",
            "Transposed matrix: -> \n",
            "[[0.11897558 0.54767224 0.69850924 0.36416545]\n",
            " [0.62483128 0.9062061  0.96172831 0.68794842]\n",
            " [0.20489398 0.35517008 0.83488587 0.16888788]\n",
            " [0.40609407 0.66276221 0.4736684  0.80671953]]\n"
          ]
        }
      ]
    },
    {
      "cell_type": "code",
      "source": [
        "#10 Створіть матрицю розміром 3x4 та вектор розміром 4,\n",
        "#заповніть їх випадковими цілими числами в діапазоні від 1 до 10 та перемножте матрицю на вектор.\n",
        "ten_matrix = np.random.randint(1, 11,size=(3,4))\n",
        "print(F\"Matrix: ->\\n{ten_matrix}\")\n",
        "ten_vector = np.random.randint(1, 11,size=(4))\n",
        "print(F\"Vector: ->\\n{ten_vector}\")\n",
        "print(f\"Multiplication: ->\\n {np.dot(ten_matrix, ten_vector)}\")"
      ],
      "metadata": {
        "colab": {
          "base_uri": "https://localhost:8080/"
        },
        "id": "NegSoEEJlaxb",
        "outputId": "49828b94-504b-4647-9777-e4a7d6b662fa"
      },
      "execution_count": 2,
      "outputs": [
        {
          "output_type": "stream",
          "name": "stdout",
          "text": [
            "Matrix: ->\n",
            "[[ 7  5  6  9]\n",
            " [ 6  7  6 10]\n",
            " [ 1  3  7  9]]\n",
            "Vector: ->\n",
            "[6 4 8 6]\n",
            "Multiplication: ->\n",
            " [164 172 128]\n"
          ]
        }
      ]
    },
    {
      "cell_type": "code",
      "source": [
        "#11 Створіть матрицю розміром 2x3 та вектор розміром 3,\n",
        "# заповніть їх випадковими дійсними числами в діапазоні від 0 до 1 та перемножте матрицю на вектор.\n",
        "eleven_matrix = np.random.random((2, 3))\n",
        "print(F\"Matrix: ->\\n{eleven_matrix}\")\n",
        "eleven_vector = np.random.random((3))\n",
        "print(F\"Vector: ->\\n{eleven_vector}\")\n",
        "print(f\"Multiplication: ->\\n {np.dot(eleven_matrix, eleven_vector)}\")"
      ],
      "metadata": {
        "colab": {
          "base_uri": "https://localhost:8080/"
        },
        "id": "5Ecjfg0vmOLD",
        "outputId": "c4436c9a-0a46-4ec9-95f2-5e4cb057ddf0"
      },
      "execution_count": 3,
      "outputs": [
        {
          "output_type": "stream",
          "name": "stdout",
          "text": [
            "Matrix: ->\n",
            "[[0.74409631 0.98765398 0.43657266]\n",
            " [0.9572765  0.98298798 0.62340168]]\n",
            "Vector: ->\n",
            "[0.96940202 0.13374243 0.68311197]\n",
            "Multiplication: ->\n",
            " [1.15164772 1.48530614]\n"
          ]
        }
      ]
    },
    {
      "cell_type": "code",
      "source": [
        "#12 Створіть дві матриці розміром 2x2,\n",
        "#заповніть їх випадковими цілими числами в діапазоні від 1 до 10 та виконайте їхнє поелементне множення.\n",
        "twelve_matrix = np.random.randint(1, 11,size=(2,2))\n",
        "print(F\"Matrix: ->\\n{twelve_matrix}\")\n",
        "twelve_vector = np.random.randint(1, 11,size=(2,2))\n",
        "print(F\"Vector: ->\\n{twelve_vector}\")\n",
        "print(f\"Elemental multiplication: ->\\n {twelve_matrix * twelve_vector}\")"
      ],
      "metadata": {
        "colab": {
          "base_uri": "https://localhost:8080/"
        },
        "id": "XxlxgQdcnZJ_",
        "outputId": "2afcb462-02d4-4d56-c9bb-a292b61d324b"
      },
      "execution_count": 9,
      "outputs": [
        {
          "output_type": "stream",
          "name": "stdout",
          "text": [
            "Matrix: ->\n",
            "[[ 7  9]\n",
            " [ 6 10]]\n",
            "Vector: ->\n",
            "[[10  1]\n",
            " [10  5]]\n",
            "Elemental multiplication: ->\n",
            " [[70  9]\n",
            " [60 50]]\n"
          ]
        }
      ]
    },
    {
      "cell_type": "code",
      "source": [
        "#13 Створіть дві матриці розміром 2x2,\n",
        "#заповніть їх випадковими цілими числами в діапазоні від 1 до 10 та знайдіть їх добуток.\n",
        "thirteen_matrix_one = np.random.randint(1, 11,size=(2,2))\n",
        "print(F\"Matrix one: ->\\n{thirteen_matrix_one}\")\n",
        "thirteen_matrix_two = np.random.randint(1, 11,size=(2,2))\n",
        "print(F\"Matrix two: ->\\n{thirteen_matrix_two}\")\n",
        "print(f\"Multiplication: ->\\n {np.dot(thirteen_matrix_one, thirteen_matrix_two)}\")"
      ],
      "metadata": {
        "colab": {
          "base_uri": "https://localhost:8080/"
        },
        "id": "TBv1i_o3ojka",
        "outputId": "535f969d-5956-4713-fbd7-5e4dc4d22ff8"
      },
      "execution_count": 10,
      "outputs": [
        {
          "output_type": "stream",
          "name": "stdout",
          "text": [
            "Matrix one: ->\n",
            "[[ 8 10]\n",
            " [ 4  5]]\n",
            "Matrix two: ->\n",
            "[[3 5]\n",
            " [4 7]]\n",
            "Multiplication: ->\n",
            " [[ 64 110]\n",
            " [ 32  55]]\n"
          ]
        }
      ]
    },
    {
      "cell_type": "code",
      "source": [
        "#14 Створіть матрицю розміром 5x5,\n",
        "#заповніть її випадковими цілими числами в діапазоні від 1 до 100 та знайдіть суму елементів матриці.\n",
        "fourteen_matrix = np.random.randint(1, 101,size=(5,5))\n",
        "print(F\"Matrix: ->\\n{fourteen_matrix}\")\n",
        "print(F\"The sum of matrix elements: ->\\n{fourteen_matrix.sum()}\")"
      ],
      "metadata": {
        "colab": {
          "base_uri": "https://localhost:8080/"
        },
        "id": "7_EX43fcpQ0C",
        "outputId": "af37118c-384b-407b-96cc-bb5f4a545a7f"
      },
      "execution_count": 11,
      "outputs": [
        {
          "output_type": "stream",
          "name": "stdout",
          "text": [
            "Matrix: ->\n",
            "[[39  8 50 92 22]\n",
            " [54  1 40 69 49]\n",
            " [78 47 41 33 37]\n",
            " [13 49 76  5 35]\n",
            " [38 16 26 21  4]]\n",
            "The sum of matrix elements: ->\n",
            "943\n"
          ]
        }
      ]
    },
    {
      "cell_type": "code",
      "source": [
        "#15 Створіть дві матриці розміром 4x4,\n",
        "# заповніть їх випадковими цілими числами в діапазоні від 1 до 10 та знайдіть їхню різницю.\n",
        "fifteen_matrix_one = np.random.randint(1, 11,size=(4,4))\n",
        "print(F\"Matrix one: ->\\n{fifteen_matrix_one}\")\n",
        "fifteen_matrix_two = np.random.randint(1, 11,size=(4,4))\n",
        "print(F\"Matrix two: ->\\n{fifteen_matrix_two}\")\n",
        "print(F\"Subtraction of matrices: ->\\n{fifteen_matrix_one - fifteen_matrix_two}\")"
      ],
      "metadata": {
        "colab": {
          "base_uri": "https://localhost:8080/"
        },
        "id": "rvXFUEMbqgz0",
        "outputId": "f525c390-ade8-4361-a69c-73b515056848"
      },
      "execution_count": 12,
      "outputs": [
        {
          "output_type": "stream",
          "name": "stdout",
          "text": [
            "Matrix one: ->\n",
            "[[2 4 6 6]\n",
            " [8 9 6 8]\n",
            " [1 8 1 8]\n",
            " [4 3 1 7]]\n",
            "Matrix two: ->\n",
            "[[ 1  5  7  2]\n",
            " [ 5  6  5  1]\n",
            " [10  7  9  4]\n",
            " [ 7  2  8  1]]\n",
            "Subtraction of matrices: ->\n",
            "[[ 1 -1 -1  4]\n",
            " [ 3  3  1  7]\n",
            " [-9  1 -8  4]\n",
            " [-3  1 -7  6]]\n"
          ]
        }
      ]
    },
    {
      "cell_type": "code",
      "source": [
        "#16 Створіть матрицю розміром 3x3,\n",
        "#заповніть її випадковими дійсними числами в діапазоні від 0 до 1\n",
        "#та знайдіть вектор-стовпчик, що містить суму елементів кожного рядка матриці.\n",
        "sixteen_matrix = np.random.random((3, 3))\n",
        "print(F\"Matrix: ->\\n{sixteen_matrix}\")\n",
        "sixteen_vector = np.sum(sixteen_matrix, axis=1)\n",
        "print(F\"Vector: ->\\n{sixteen_vector}\")"
      ],
      "metadata": {
        "colab": {
          "base_uri": "https://localhost:8080/"
        },
        "id": "y147HF29u1CF",
        "outputId": "b069ffdb-17f5-4cc0-b41a-410a6cc4ad10"
      },
      "execution_count": 15,
      "outputs": [
        {
          "output_type": "stream",
          "name": "stdout",
          "text": [
            "Matrix: ->\n",
            "[[0.7654605  0.26069798 0.89211205]\n",
            " [0.07594857 0.19926062 0.94007644]\n",
            " [0.96108764 0.98506029 0.71631722]]\n",
            "Vector: ->\n",
            "[1.91827052 1.21528563 2.66246515]\n"
          ]
        }
      ]
    },
    {
      "cell_type": "code",
      "source": [
        "#17 Створіть матрицю розміром 3x4 з довільними цілими числами і створінь матрицю з квадратами цих чисел.\n",
        "seventeen = np.random.randint(1, 1000,size=(3,4))\n",
        "print(F\"Matrix: ->\\n{seventeen}\")\n",
        "print(F\"Matrix with squares of numbers: ->\\n{np.square(seventeen)}\")"
      ],
      "metadata": {
        "colab": {
          "base_uri": "https://localhost:8080/"
        },
        "id": "XKz6r7jQxCtW",
        "outputId": "3235f3c0-9581-4ae6-e368-0cdf694f431b"
      },
      "execution_count": 29,
      "outputs": [
        {
          "output_type": "stream",
          "name": "stdout",
          "text": [
            "Matrix: ->\n",
            "[[296 979 531 432]\n",
            " [590 744  96 668]\n",
            " [382  99 645 116]]\n",
            "Matrix with squares of numbers: ->\n",
            "[[ 87616 958441 281961 186624]\n",
            " [348100 553536   9216 446224]\n",
            " [145924   9801 416025  13456]]\n"
          ]
        }
      ]
    },
    {
      "cell_type": "code",
      "source": [
        "#18 Створіть вектор розміром 4,\n",
        "# заповніть його випадковими цілими числами в діапазоні від 1 до 50 та знайдіть вектор з квадратними коренями цих чисел.\n",
        "eighteen_vector = np.random.randint(1, 51,size=(4))\n",
        "print(F\"Vector: ->\\n{eighteen_vector}\")\n",
        "print(F\"Vector with square roots of numbers: ->\\n{np.sqrt(eighteen_vector)}\")"
      ],
      "metadata": {
        "colab": {
          "base_uri": "https://localhost:8080/"
        },
        "id": "C4W2tklvykBD",
        "outputId": "e0d4e2c2-bdf7-4ff8-be21-4ad2f3487a43"
      },
      "execution_count": 4,
      "outputs": [
        {
          "output_type": "stream",
          "name": "stdout",
          "text": [
            "Vector: ->\n",
            "[15  2 47 27]\n",
            "Vector with square roots of numbers: ->\n",
            "[3.87298335 1.41421356 6.8556546  5.19615242]\n"
          ]
        }
      ]
    }
  ]
}