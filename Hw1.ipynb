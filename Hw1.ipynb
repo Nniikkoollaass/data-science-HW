{
  "nbformat": 4,
  "nbformat_minor": 0,
  "metadata": {
    "colab": {
      "provenance": [],
      "authorship_tag": "ABX9TyPokkZht+O0uwnjDrhreKw9",
      "include_colab_link": true
    },
    "kernelspec": {
      "name": "python3",
      "display_name": "Python 3"
    },
    "language_info": {
      "name": "python"
    }
  },
  "cells": [
    {
      "cell_type": "markdown",
      "metadata": {
        "id": "view-in-github",
        "colab_type": "text"
      },
      "source": [
        "<a href=\"https://colab.research.google.com/github/Nniikkoollaass/data-science-HW/blob/main/Hw1.ipynb\" target=\"_parent\"><img src=\"https://colab.research.google.com/assets/colab-badge.svg\" alt=\"Open In Colab\"/></a>"
      ]
    },
    {
      "cell_type": "code",
      "execution_count": 1,
      "metadata": {
        "id": "hUqfMaPXAGBo"
      },
      "outputs": [],
      "source": [
        "import numpy as np"
      ]
    },
    {
      "cell_type": "code",
      "source": [
        "#1 Створіть одновимірний масив (вектор) з першими 10-ма натуральними числами та виведіть його значення.\n",
        "a = np.arange(11)\n",
        "print(a)"
      ],
      "metadata": {
        "colab": {
          "base_uri": "https://localhost:8080/"
        },
        "id": "ThAL23YWChsf",
        "outputId": "d77c66f6-e40f-4146-c392-436fe3bd26a7"
      },
      "execution_count": 4,
      "outputs": [
        {
          "output_type": "stream",
          "name": "stdout",
          "text": [
            "[ 0  1  2  3  4  5  6  7  8  9 10]\n"
          ]
        }
      ]
    },
    {
      "cell_type": "code",
      "source": [
        "#2 Створіть двовимірний масив (матрицю) розміром 3x3, заповніть його нулями та виведіть його значення.\n",
        "m = np.zeros((3, 3), dtype=int)\n",
        "print(m)"
      ],
      "metadata": {
        "colab": {
          "base_uri": "https://localhost:8080/"
        },
        "id": "gnlue50VMd10",
        "outputId": "b042c8db-90fd-4a19-a56c-72d6a78b1d1e"
      },
      "execution_count": 3,
      "outputs": [
        {
          "output_type": "stream",
          "name": "stdout",
          "text": [
            "[[0 0 0]\n",
            " [0 0 0]\n",
            " [0 0 0]]\n"
          ]
        }
      ]
    },
    {
      "cell_type": "code",
      "source": [
        "#3 Створіть масив розміром 5x5, заповніть його випадковими цілими числами в діапазоні від 1 до 10 та виведіть його значення.\n",
        "n = np.random.randint(1, 10,size=(5,5))\n",
        "print(n)"
      ],
      "metadata": {
        "colab": {
          "base_uri": "https://localhost:8080/"
        },
        "id": "HKA0E3ONOQrT",
        "outputId": "85f4f29a-68b4-42c2-ab52-ae598c5b96f2"
      },
      "execution_count": 5,
      "outputs": [
        {
          "output_type": "stream",
          "name": "stdout",
          "text": [
            "[[7 5 8 6 9]\n",
            " [4 1 1 7 3]\n",
            " [9 4 5 7 3]\n",
            " [5 6 2 8 5]\n",
            " [3 6 3 3 8]]\n"
          ]
        }
      ]
    },
    {
      "cell_type": "code",
      "source": [
        "#4 Створіть масив розміром 4x4, заповніть його випадковими дійсними числами в діапазоні від 0 до 1 та виведіть його значення.\n",
        "b = np.random.random((4, 4))\n",
        "print(b)"
      ],
      "metadata": {
        "colab": {
          "base_uri": "https://localhost:8080/"
        },
        "id": "AO_3GN6iQ919",
        "outputId": "986bc916-2b9b-42da-ee6b-d85b360959a6"
      },
      "execution_count": 6,
      "outputs": [
        {
          "output_type": "stream",
          "name": "stdout",
          "text": [
            "[[0.33573612 0.11337823 0.50378426 0.22984689]\n",
            " [0.34913405 0.94502533 0.31728239 0.45928374]\n",
            " [0.95124144 0.80793383 0.58385747 0.88621472]\n",
            " [0.35377742 0.20999237 0.25640996 0.57822811]]\n"
          ]
        }
      ]
    },
    {
      "cell_type": "code",
      "source": [
        "#5 Створіть два одновимірних масиви розміром 5,\n",
        "#заповніть їх випадковими цілими числами в діапазоні від 1 до 10\n",
        "#та виконайте на них поелементні операції додавання, віднімання та множення.\n",
        "five_one = np.random.randint(1, 10,size=5)\n",
        "five_two = np.random.randint(1, 10,size=5)\n",
        "print(f\"First -\\n {five_one}\")\n",
        "print(f\"Second -\\n {five_two}\")\n",
        "print(f\"Addition: ->\\n {five_one + five_two}\")\n",
        "print(f\"Subtraction: ->\\n {five_one - five_two}\")\n",
        "print(f\"Multiplication: ->\\n {five_one * five_two}\")"
      ],
      "metadata": {
        "colab": {
          "base_uri": "https://localhost:8080/"
        },
        "id": "H2SIbYdzS9Tu",
        "outputId": "4d646df8-7c0f-4dee-9f94-ba8148645cb9"
      },
      "execution_count": 14,
      "outputs": [
        {
          "output_type": "stream",
          "name": "stdout",
          "text": [
            "First -\n",
            " [3 9 8 2 6]\n",
            "Second -\n",
            " [4 5 3 6 2]\n",
            "Addition: ->\n",
            " [ 7 14 11  8  8]\n",
            "Subtraction: ->\n",
            " [-1  4  5 -4  4]\n",
            "Multiplication: ->\n",
            " [12 45 24 12 12]\n"
          ]
        }
      ]
    },
    {
      "cell_type": "code",
      "source": [
        "#6 Створіть два вектори розміром 7, заповніть довільними числами та знайдіть їх скалярний добуток.\n",
        "six_one = np.random.randint(1, 10,size=7)\n",
        "six_two = np.random.randint(1, 10,size=7)\n",
        "print(f\"First -\\n {six_one}\")\n",
        "print(f\"Second -\\n {six_two}\")\n",
        "print(f\"Scalar product: ->\\n {np.dot(six_one, six_two)}\")"
      ],
      "metadata": {
        "colab": {
          "base_uri": "https://localhost:8080/"
        },
        "id": "ID9bejQIUEd-",
        "outputId": "a730656d-c27d-42f3-bfe1-a7efbe5d2944"
      },
      "execution_count": 16,
      "outputs": [
        {
          "output_type": "stream",
          "name": "stdout",
          "text": [
            "First -\n",
            " [3 8 5 9 1 1 1]\n",
            "Second -\n",
            " [7 6 6 6 6 6 4]\n",
            "Scalar product: ->\n",
            " 169\n"
          ]
        }
      ]
    },
    {
      "cell_type": "code",
      "source": [
        "#7 Створіть дві матриці розміром 2x2 та 2x3,\n",
        "# заповніть їх випадковими цілими числами в діапазоні від 1 до 10 та перемножте їх між собою.\n",
        "seven_one = np.random.randint(1, 10,size=(2,2))\n",
        "seven_two = np.random.randint(1, 10,size=(2,3))\n",
        "print(f\"First -\\n {seven_one}\")\n",
        "print(f\"Second -\\n {seven_two}\")\n",
        "print(f\"Matrix multiplication: ->\\n{np.dot(seven_one, seven_two)}\")"
      ],
      "metadata": {
        "colab": {
          "base_uri": "https://localhost:8080/"
        },
        "id": "US9xXasSgHQ5",
        "outputId": "413bd722-4d90-45bb-c997-bfedcc3f0573"
      },
      "execution_count": 13,
      "outputs": [
        {
          "output_type": "stream",
          "name": "stdout",
          "text": [
            "First -\n",
            " [[5 8]\n",
            " [9 1]]\n",
            "Second -\n",
            " [[9 9 6]\n",
            " [2 7 3]]\n",
            "Matrix multiplication: ->\n",
            "[[ 61 101  54]\n",
            " [ 83  88  57]]\n"
          ]
        }
      ]
    },
    {
      "cell_type": "code",
      "source": [
        "#8 Створіть матрицю розміром 3x3,\n",
        "#заповніть її випадковими цілими числами в діапазоні від 1 до 10 та знайдіть її обернену матрицю.\n",
        "eight = np.random.randint(1, 10,size=(3,3))\n",
        "print(eight)\n",
        "eight_inv = np.linalg.inv(eight)\n",
        "print(f\"Inverse matrix: -> \\n{eight_inv}\")"
      ],
      "metadata": {
        "colab": {
          "base_uri": "https://localhost:8080/"
        },
        "id": "jMQMW3b8hAdf",
        "outputId": "f46cc15a-dd31-44d1-be3a-d2819478fd09"
      },
      "execution_count": 17,
      "outputs": [
        {
          "output_type": "stream",
          "name": "stdout",
          "text": [
            "[[8 5 9]\n",
            " [7 3 3]\n",
            " [5 6 2]]\n",
            "Inverse matrix: -> \n",
            "[[-0.07894737  0.28947368 -0.07894737]\n",
            " [ 0.00657895 -0.19078947  0.25657895]\n",
            " [ 0.17763158 -0.15131579 -0.07236842]]\n"
          ]
        }
      ]
    },
    {
      "cell_type": "code",
      "source": [
        "#9 Створіть матрицю розміром 4x4,\n",
        "# заповніть її випадковими дійсними числами в діапазоні від 0 до 1 та транспонуйте її.\n",
        "nine = np.random.random((4, 4))\n",
        "print(nine)\n",
        "nine_transposed = nine.T\n",
        "print(f\"Transposed matrix: -> \\n{nine_transposed}\")"
      ],
      "metadata": {
        "colab": {
          "base_uri": "https://localhost:8080/"
        },
        "id": "MOzUbZIMi8f2",
        "outputId": "cb7f156e-77e1-4110-ae69-2d547d52d610"
      },
      "execution_count": 18,
      "outputs": [
        {
          "output_type": "stream",
          "name": "stdout",
          "text": [
            "[[0.70574818 0.02034391 0.82324456 0.61660955]\n",
            " [0.14151298 0.85599133 0.78593336 0.10069257]\n",
            " [0.01996414 0.84265245 0.95743033 0.97746369]\n",
            " [0.75602607 0.78714933 0.61145705 0.45329291]]\n",
            "Transposed matrix: -> \n",
            "[[0.70574818 0.14151298 0.01996414 0.75602607]\n",
            " [0.02034391 0.85599133 0.84265245 0.78714933]\n",
            " [0.82324456 0.78593336 0.95743033 0.61145705]\n",
            " [0.61660955 0.10069257 0.97746369 0.45329291]]\n"
          ]
        }
      ]
    },
    {
      "cell_type": "code",
      "source": [
        "#10 Створіть матрицю розміром 3x4 та вектор розміром 4,\n",
        "#заповніть їх випадковими цілими числами в діапазоні від 1 до 10 та перемножте матрицю на вектор.\n",
        "ten_matrix = np.random.randint(1, 10,size=(3,4))\n",
        "print(F\"Matrix: ->\\n{ten_matrix}\")\n",
        "ten_vector = np.random.randint(1, 10,size=(1,4))\n",
        "print(F\"Vector: ->\\n{ten_vector}\")\n",
        "print(f\"Multiplication: ->\\n {ten_matrix * ten_vector}\")"
      ],
      "metadata": {
        "colab": {
          "base_uri": "https://localhost:8080/"
        },
        "id": "NegSoEEJlaxb",
        "outputId": "59570070-2ec3-4737-d618-de2aaa62eb50"
      },
      "execution_count": 20,
      "outputs": [
        {
          "output_type": "stream",
          "name": "stdout",
          "text": [
            "Matrix: ->\n",
            "[[7 7 9 3]\n",
            " [7 4 7 3]\n",
            " [8 1 5 6]]\n",
            "Vector: ->\n",
            "[[8 8 6 4]]\n",
            "Multiplication: ->\n",
            " [[56 56 54 12]\n",
            " [56 32 42 12]\n",
            " [64  8 30 24]]\n"
          ]
        }
      ]
    },
    {
      "cell_type": "code",
      "source": [
        "#11 Створіть матрицю розміром 2x3 та вектор розміром 3,\n",
        "# заповніть їх випадковими дійсними числами в діапазоні від 0 до 1 та перемножте матрицю на вектор.\n",
        "eleven_matrix = np.random.random((2, 3))\n",
        "print(F\"Matrix: ->\\n{eleven_matrix}\")\n",
        "eleven_vector = np.random.random((1, 3))\n",
        "print(F\"Vector: ->\\n{eleven_vector}\")\n",
        "print(f\"Multiplication: ->\\n {eleven_matrix * eleven_vector}\")"
      ],
      "metadata": {
        "colab": {
          "base_uri": "https://localhost:8080/"
        },
        "id": "5Ecjfg0vmOLD",
        "outputId": "954c3ee3-4062-404a-f575-ac94c341a83f"
      },
      "execution_count": 21,
      "outputs": [
        {
          "output_type": "stream",
          "name": "stdout",
          "text": [
            "Matrix: ->\n",
            "[[0.08956973 0.88271681 0.87785037]\n",
            " [0.63912643 0.36555977 0.98437555]]\n",
            "Vector: ->\n",
            "[[0.9394942  0.8296605  0.19878832]]\n",
            "Multiplication: ->\n",
            " [[0.08415024 0.73235527 0.1745064 ]\n",
            " [0.60045558 0.3032905  0.19568236]]\n"
          ]
        }
      ]
    },
    {
      "cell_type": "code",
      "source": [
        "#12 Створіть дві матриці розміром 2x2,\n",
        "#заповніть їх випадковими цілими числами в діапазоні від 1 до 10 та виконайте їхнє поелементне множення.\n",
        "twelve_matrix = np.random.randint(1, 10,size=(2,2))\n",
        "print(F\"Matrix: ->\\n{twelve_matrix}\")\n",
        "twelve_vector = np.random.randint(1, 10,size=(2,2))\n",
        "print(F\"Vector: ->\\n{twelve_vector}\")\n",
        "print(f\"Elemental multiplication: ->\\n {twelve_matrix * twelve_vector}\")"
      ],
      "metadata": {
        "colab": {
          "base_uri": "https://localhost:8080/"
        },
        "id": "XxlxgQdcnZJ_",
        "outputId": "7ccf4ab1-d777-4814-fce4-51435245d707"
      },
      "execution_count": 22,
      "outputs": [
        {
          "output_type": "stream",
          "name": "stdout",
          "text": [
            "Matrix: ->\n",
            "[[7 7]\n",
            " [4 9]]\n",
            "Vector: ->\n",
            "[[7 7]\n",
            " [6 6]]\n",
            "Elemental multiplication: ->\n",
            " [[49 49]\n",
            " [24 54]]\n"
          ]
        }
      ]
    },
    {
      "cell_type": "code",
      "source": [
        "#13 Створіть дві матриці розміром 2x2,\n",
        "#заповніть їх випадковими цілими числами в діапазоні від 1 до 10 та знайдіть їх добуток.\n",
        "thirteen_matrix_one = np.random.randint(1, 10,size=(2,2))\n",
        "print(F\"Matrix one: ->\\n{thirteen_matrix_one}\")\n",
        "thirteen_matrix_two = np.random.randint(1, 10,size=(2,2))\n",
        "print(F\"Matrix two: ->\\n{thirteen_matrix_two}\")\n",
        "print(f\"Multiplication: ->\\n {np.dot(thirteen_matrix_one, thirteen_matrix_two)}\")"
      ],
      "metadata": {
        "colab": {
          "base_uri": "https://localhost:8080/"
        },
        "id": "TBv1i_o3ojka",
        "outputId": "e8576c7a-f7c5-4d43-a5fd-5731e5907c23"
      },
      "execution_count": 25,
      "outputs": [
        {
          "output_type": "stream",
          "name": "stdout",
          "text": [
            "Matrix one: ->\n",
            "[[2 5]\n",
            " [6 5]]\n",
            "Matrix two: ->\n",
            "[[4 4]\n",
            " [1 5]]\n",
            "Multiplication: ->\n",
            " [[13 33]\n",
            " [29 49]]\n"
          ]
        }
      ]
    },
    {
      "cell_type": "code",
      "source": [
        "#14 Створіть матрицю розміром 5x5,\n",
        "#заповніть її випадковими цілими числами в діапазоні від 1 до 100 та знайдіть суму елементів матриці.\n",
        "fourteen_matrix = np.random.randint(1, 100,size=(5,5))\n",
        "print(F\"Matrix: ->\\n{fourteen_matrix}\")\n",
        "print(F\"The sum of matrix elements: ->\\n{fourteen_matrix.sum()}\")"
      ],
      "metadata": {
        "colab": {
          "base_uri": "https://localhost:8080/"
        },
        "id": "7_EX43fcpQ0C",
        "outputId": "853be604-d7ca-485d-a3cd-2201f2b549e2"
      },
      "execution_count": 26,
      "outputs": [
        {
          "output_type": "stream",
          "name": "stdout",
          "text": [
            "Matrix: ->\n",
            "[[80 17 80 17 92]\n",
            " [82 85 11 93 24]\n",
            " [90 25 84 96  4]\n",
            " [11 71 34  2 83]\n",
            " [58 19 74 83 51]]\n",
            "The sum of matrix elements: ->\n",
            "1366\n"
          ]
        }
      ]
    },
    {
      "cell_type": "code",
      "source": [
        "#15 Створіть дві матриці розміром 4x4,\n",
        "# заповніть їх випадковими цілими числами в діапазоні від 1 до 10 та знайдіть їхню різницю.\n",
        "fifteen_matrix_one = np.random.randint(1, 10,size=(4,4))\n",
        "print(F\"Matrix one: ->\\n{fifteen_matrix_one}\")\n",
        "fifteen_matrix_two = np.random.randint(1, 10,size=(4,4))\n",
        "print(F\"Matrix two: ->\\n{fifteen_matrix_two}\")\n",
        "print(F\"Subtraction of matrices: ->\\n{fifteen_matrix_one - fifteen_matrix_two}\")"
      ],
      "metadata": {
        "colab": {
          "base_uri": "https://localhost:8080/"
        },
        "id": "rvXFUEMbqgz0",
        "outputId": "1d54fbcd-784e-47e4-a114-094ae860f515"
      },
      "execution_count": 27,
      "outputs": [
        {
          "output_type": "stream",
          "name": "stdout",
          "text": [
            "Matrix one: ->\n",
            "[[9 2 4 7]\n",
            " [8 1 9 8]\n",
            " [7 6 2 3]\n",
            " [4 3 3 4]]\n",
            "Matrix two: ->\n",
            "[[4 7 6 7]\n",
            " [8 3 6 6]\n",
            " [5 8 9 2]\n",
            " [9 7 2 7]]\n",
            "Subtraction of matrices: ->\n",
            "[[ 5 -5 -2  0]\n",
            " [ 0 -2  3  2]\n",
            " [ 2 -2 -7  1]\n",
            " [-5 -4  1 -3]]\n"
          ]
        }
      ]
    },
    {
      "cell_type": "code",
      "source": [
        "#16 Створіть матрицю розміром 3x3,\n",
        "#заповніть її випадковими дійсними числами в діапазоні від 0 до 1\n",
        "#та знайдіть вектор-стовпчик, що містить суму елементів кожного рядка матриці.\n",
        "sixteen_matrix = np.random.random((3, 3))\n",
        "print(F\"Matrix: ->\\n{sixteen_matrix}\")\n",
        "sixteen_vector = np.array(\n",
        "    [[sixteen_matrix[0].sum()],\n",
        "    [sixteen_matrix[1].sum()],\n",
        "    [sixteen_matrix[2].sum()]],\n",
        "    dtype=float)\n",
        "print(F\"Vector: ->\\n{sixteen_vector}\")"
      ],
      "metadata": {
        "colab": {
          "base_uri": "https://localhost:8080/"
        },
        "id": "y147HF29u1CF",
        "outputId": "0899466d-97fd-4ed5-8dc6-ab8eb2ef8475"
      },
      "execution_count": 28,
      "outputs": [
        {
          "output_type": "stream",
          "name": "stdout",
          "text": [
            "Matrix: ->\n",
            "[[0.0055525  0.52394024 0.46477578]\n",
            " [0.80161315 0.12609144 0.23062015]\n",
            " [0.50995465 0.17514218 0.63605573]]\n",
            "Vector: ->\n",
            "[[0.99426852]\n",
            " [1.15832474]\n",
            " [1.32115256]]\n"
          ]
        }
      ]
    },
    {
      "cell_type": "code",
      "source": [
        "#17 Створіть матрицю розміром 3x4 з довільними цілими числами і створінь матрицю з квадратами цих чисел.\n",
        "seventeen = np.random.randint(1, 1000,size=(3,4))\n",
        "print(F\"Matrix: ->\\n{seventeen}\")\n",
        "print(F\"Matrix with squares of numbers: ->\\n{np.square(seventeen)}\")"
      ],
      "metadata": {
        "colab": {
          "base_uri": "https://localhost:8080/"
        },
        "id": "XKz6r7jQxCtW",
        "outputId": "3235f3c0-9581-4ae6-e368-0cdf694f431b"
      },
      "execution_count": 29,
      "outputs": [
        {
          "output_type": "stream",
          "name": "stdout",
          "text": [
            "Matrix: ->\n",
            "[[296 979 531 432]\n",
            " [590 744  96 668]\n",
            " [382  99 645 116]]\n",
            "Matrix with squares of numbers: ->\n",
            "[[ 87616 958441 281961 186624]\n",
            " [348100 553536   9216 446224]\n",
            " [145924   9801 416025  13456]]\n"
          ]
        }
      ]
    },
    {
      "cell_type": "code",
      "source": [
        "#18 Створіть вектор розміром 4,\n",
        "# заповніть його випадковими цілими числами в діапазоні від 1 до 50 та знайдіть вектор з квадратними коренями цих чисел.\n",
        "eighteen_vector = np.random.randint(1, 50,size=(1,4))\n",
        "print(F\"Vector: ->\\n{eighteen_vector}\")\n",
        "print(F\"Vector with square roots of numbers: ->\\n{np.sqrt(eighteen_vector)}\")"
      ],
      "metadata": {
        "colab": {
          "base_uri": "https://localhost:8080/"
        },
        "id": "C4W2tklvykBD",
        "outputId": "c4b36a2a-b459-44ae-9f45-10fef2c98496"
      },
      "execution_count": 30,
      "outputs": [
        {
          "output_type": "stream",
          "name": "stdout",
          "text": [
            "Vector: ->\n",
            "[[ 9  4  2 11]]\n",
            "Vector with square roots of numbers: ->\n",
            "[[3.         2.         1.41421356 3.31662479]]\n"
          ]
        }
      ]
    }
  ]
}